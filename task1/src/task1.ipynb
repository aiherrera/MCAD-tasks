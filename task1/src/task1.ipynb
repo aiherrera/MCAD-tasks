{
 "cells": [
  {
   "cell_type": "code",
   "execution_count": 12,
   "metadata": {},
   "outputs": [
    {
     "data": {
      "text/html": [
       "<div>\n",
       "<style scoped>\n",
       "    .dataframe tbody tr th:only-of-type {\n",
       "        vertical-align: middle;\n",
       "    }\n",
       "\n",
       "    .dataframe tbody tr th {\n",
       "        vertical-align: top;\n",
       "    }\n",
       "\n",
       "    .dataframe thead th {\n",
       "        text-align: right;\n",
       "    }\n",
       "</style>\n",
       "<table border=\"1\" class=\"dataframe\">\n",
       "  <thead>\n",
       "    <tr style=\"text-align: right;\">\n",
       "      <th></th>\n",
       "      <th>CrimeId</th>\n",
       "      <th>OriginalCrimeTypeName</th>\n",
       "      <th>OffenseDate</th>\n",
       "      <th>CallTime</th>\n",
       "      <th>CallDateTime</th>\n",
       "      <th>Disposition</th>\n",
       "      <th>Address</th>\n",
       "      <th>City</th>\n",
       "      <th>State</th>\n",
       "      <th>AgencyId</th>\n",
       "      <th>Range</th>\n",
       "      <th>AddressType</th>\n",
       "    </tr>\n",
       "  </thead>\n",
       "  <tbody>\n",
       "    <tr>\n",
       "      <th>3775</th>\n",
       "      <td>160932590</td>\n",
       "      <td>Traffic Stop</td>\n",
       "      <td>2016-04-02T00:00:00</td>\n",
       "      <td>17:07</td>\n",
       "      <td>2016-04-02T17:07:00</td>\n",
       "      <td>ADV</td>\n",
       "      <td>24th St/capp St</td>\n",
       "      <td>San Francisco</td>\n",
       "      <td>CA</td>\n",
       "      <td>1</td>\n",
       "      <td>NaN</td>\n",
       "      <td>Intersectioon</td>\n",
       "    </tr>\n",
       "  </tbody>\n",
       "</table>\n",
       "</div>"
      ],
      "text/plain": [
       "        CrimeId OriginalCrimeTypeName          OffenseDate CallTime  \\\n",
       "3775  160932590          Traffic Stop  2016-04-02T00:00:00    17:07   \n",
       "\n",
       "             CallDateTime Disposition          Address           City State  \\\n",
       "3775  2016-04-02T17:07:00         ADV  24th St/capp St  San Francisco    CA   \n",
       "\n",
       "     AgencyId  Range    AddressType  \n",
       "3775        1    NaN  Intersectioon  "
      ]
     },
     "execution_count": 12,
     "metadata": {},
     "output_type": "execute_result"
    }
   ],
   "source": [
    "import pandas as pd\n",
    "\n",
    "df = pd.read_csv('data/data_act_01.csv', sep=';')\n",
    "\n",
    "### Configs ###\n",
    "#### Display all rows\n",
    "# pd.options.display.max_rows = None\n",
    "\n",
    "#### Force to display a minimum number of rows  \n",
    "# pd.set_option('display.min_rows', 10000)\n",
    "\n",
    "#### Display the first n values\n",
    "# df.head(10)\n",
    "\n",
    "### Filtering data \n",
    "# filter = df.AddressType == \"Intersectioon\"\n",
    "# df[filter]\n",
    "\n",
    "### Count null values\n",
    "# df.isnull().sum()\n",
    "\n",
    "### Show null values\n",
    "# df.iloc[df[(df.isnull().sum(axis=1) >=2)].index]\n",
    "\n",
    "### Duplicated values\n",
    "# duplicates = df[df['CrimeId'].duplicated(False)]['CrimeId']\n",
    "# duplicates\n"
   ]
  }
 ],
 "metadata": {
  "interpreter": {
   "hash": "aee8b7b246df8f9039afb4144a1f6fd8d2ca17a180786b69acc140d282b71a49"
  },
  "kernelspec": {
   "display_name": "Python 3.8.5 64-bit",
   "language": "python",
   "name": "python3"
  },
  "language_info": {
   "codemirror_mode": {
    "name": "ipython",
    "version": 3
   },
   "file_extension": ".py",
   "mimetype": "text/x-python",
   "name": "python",
   "nbconvert_exporter": "python",
   "pygments_lexer": "ipython3",
   "version": "3.8.5"
  },
  "orig_nbformat": 4
 },
 "nbformat": 4,
 "nbformat_minor": 2
}
